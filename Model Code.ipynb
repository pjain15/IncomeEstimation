{
 "cells": [
  {
   "cell_type": "code",
   "execution_count": 1,
   "id": "a8752df3",
   "metadata": {},
   "outputs": [],
   "source": [
    "import pandas as pd\n",
    "import numpy as np\n",
    "import matplotlib.pyplot as plt\n"
   ]
  },
  {
   "cell_type": "code",
   "execution_count": null,
   "id": "7a8cfd5b",
   "metadata": {},
   "outputs": [],
   "source": [
    "## EDA"
   ]
  },
  {
   "cell_type": "code",
   "execution_count": 2,
   "id": "0cbb5efc",
   "metadata": {},
   "outputs": [
    {
     "data": {
      "text/html": [
       "<div>\n",
       "<style scoped>\n",
       "    .dataframe tbody tr th:only-of-type {\n",
       "        vertical-align: middle;\n",
       "    }\n",
       "\n",
       "    .dataframe tbody tr th {\n",
       "        vertical-align: top;\n",
       "    }\n",
       "\n",
       "    .dataframe thead th {\n",
       "        text-align: right;\n",
       "    }\n",
       "</style>\n",
       "<table border=\"1\" class=\"dataframe\">\n",
       "  <thead>\n",
       "    <tr style=\"text-align: right;\">\n",
       "      <th></th>\n",
       "      <th>age</th>\n",
       "      <th>workclass</th>\n",
       "      <th>fnlwgt</th>\n",
       "      <th>education</th>\n",
       "      <th>educational-num</th>\n",
       "      <th>marital-status</th>\n",
       "      <th>occupation</th>\n",
       "      <th>relationship</th>\n",
       "      <th>race</th>\n",
       "      <th>gender</th>\n",
       "      <th>capital-gain</th>\n",
       "      <th>capital-loss</th>\n",
       "      <th>hours-per-week</th>\n",
       "      <th>native-country</th>\n",
       "      <th>income_&gt;50K</th>\n",
       "    </tr>\n",
       "  </thead>\n",
       "  <tbody>\n",
       "    <tr>\n",
       "      <th>0</th>\n",
       "      <td>67</td>\n",
       "      <td>Private</td>\n",
       "      <td>366425</td>\n",
       "      <td>Doctorate</td>\n",
       "      <td>16</td>\n",
       "      <td>Divorced</td>\n",
       "      <td>Exec-managerial</td>\n",
       "      <td>Not-in-family</td>\n",
       "      <td>White</td>\n",
       "      <td>Male</td>\n",
       "      <td>99999</td>\n",
       "      <td>0</td>\n",
       "      <td>60</td>\n",
       "      <td>United-States</td>\n",
       "      <td>1</td>\n",
       "    </tr>\n",
       "    <tr>\n",
       "      <th>1</th>\n",
       "      <td>17</td>\n",
       "      <td>Private</td>\n",
       "      <td>244602</td>\n",
       "      <td>12th</td>\n",
       "      <td>8</td>\n",
       "      <td>Never-married</td>\n",
       "      <td>Other-service</td>\n",
       "      <td>Own-child</td>\n",
       "      <td>White</td>\n",
       "      <td>Male</td>\n",
       "      <td>0</td>\n",
       "      <td>0</td>\n",
       "      <td>15</td>\n",
       "      <td>United-States</td>\n",
       "      <td>0</td>\n",
       "    </tr>\n",
       "    <tr>\n",
       "      <th>2</th>\n",
       "      <td>31</td>\n",
       "      <td>Private</td>\n",
       "      <td>174201</td>\n",
       "      <td>Bachelors</td>\n",
       "      <td>13</td>\n",
       "      <td>Married-civ-spouse</td>\n",
       "      <td>Exec-managerial</td>\n",
       "      <td>Husband</td>\n",
       "      <td>White</td>\n",
       "      <td>Male</td>\n",
       "      <td>0</td>\n",
       "      <td>0</td>\n",
       "      <td>40</td>\n",
       "      <td>United-States</td>\n",
       "      <td>1</td>\n",
       "    </tr>\n",
       "    <tr>\n",
       "      <th>3</th>\n",
       "      <td>58</td>\n",
       "      <td>State-gov</td>\n",
       "      <td>110199</td>\n",
       "      <td>7th-8th</td>\n",
       "      <td>4</td>\n",
       "      <td>Married-civ-spouse</td>\n",
       "      <td>Transport-moving</td>\n",
       "      <td>Husband</td>\n",
       "      <td>White</td>\n",
       "      <td>Male</td>\n",
       "      <td>0</td>\n",
       "      <td>0</td>\n",
       "      <td>40</td>\n",
       "      <td>United-States</td>\n",
       "      <td>0</td>\n",
       "    </tr>\n",
       "    <tr>\n",
       "      <th>4</th>\n",
       "      <td>25</td>\n",
       "      <td>State-gov</td>\n",
       "      <td>149248</td>\n",
       "      <td>Some-college</td>\n",
       "      <td>10</td>\n",
       "      <td>Never-married</td>\n",
       "      <td>Other-service</td>\n",
       "      <td>Not-in-family</td>\n",
       "      <td>Black</td>\n",
       "      <td>Male</td>\n",
       "      <td>0</td>\n",
       "      <td>0</td>\n",
       "      <td>40</td>\n",
       "      <td>United-States</td>\n",
       "      <td>0</td>\n",
       "    </tr>\n",
       "  </tbody>\n",
       "</table>\n",
       "</div>"
      ],
      "text/plain": [
       "   age  workclass  fnlwgt     education  educational-num      marital-status  \\\n",
       "0   67    Private  366425     Doctorate               16            Divorced   \n",
       "1   17    Private  244602          12th                8       Never-married   \n",
       "2   31    Private  174201     Bachelors               13  Married-civ-spouse   \n",
       "3   58  State-gov  110199       7th-8th                4  Married-civ-spouse   \n",
       "4   25  State-gov  149248  Some-college               10       Never-married   \n",
       "\n",
       "         occupation   relationship   race gender  capital-gain  capital-loss  \\\n",
       "0   Exec-managerial  Not-in-family  White   Male         99999             0   \n",
       "1     Other-service      Own-child  White   Male             0             0   \n",
       "2   Exec-managerial        Husband  White   Male             0             0   \n",
       "3  Transport-moving        Husband  White   Male             0             0   \n",
       "4     Other-service  Not-in-family  Black   Male             0             0   \n",
       "\n",
       "   hours-per-week native-country  income_>50K  \n",
       "0              60  United-States            1  \n",
       "1              15  United-States            0  \n",
       "2              40  United-States            1  \n",
       "3              40  United-States            0  \n",
       "4              40  United-States            0  "
      ]
     },
     "execution_count": 2,
     "metadata": {},
     "output_type": "execute_result"
    }
   ],
   "source": [
    "df = pd.read_csv(r\"Dataset/train.csv\")\n",
    "df.head(5)"
   ]
  },
  {
   "cell_type": "code",
   "execution_count": 4,
   "id": "6d587927",
   "metadata": {},
   "outputs": [
    {
     "data": {
      "text/plain": [
       "Index(['age', 'workclass', 'fnlwgt', 'education', 'educational-num',\n",
       "       'marital-status', 'occupation', 'relationship', 'race', 'gender',\n",
       "       'capital-gain', 'capital-loss', 'hours-per-week', 'native-country',\n",
       "       'income_>50K'],\n",
       "      dtype='object')"
      ]
     },
     "execution_count": 4,
     "metadata": {},
     "output_type": "execute_result"
    }
   ],
   "source": [
    "df.columns"
   ]
  },
  {
   "cell_type": "code",
   "execution_count": 7,
   "id": "c8097bed",
   "metadata": {},
   "outputs": [
    {
     "data": {
      "text/plain": [
       "(43957, 15)"
      ]
     },
     "execution_count": 7,
     "metadata": {},
     "output_type": "execute_result"
    }
   ],
   "source": [
    "df.shape"
   ]
  },
  {
   "cell_type": "code",
   "execution_count": 9,
   "id": "58e4013c",
   "metadata": {},
   "outputs": [
    {
     "data": {
      "text/plain": [
       "Private             69.583912\n",
       "Self-emp-not-inc     7.880429\n",
       "Local-gov            6.419910\n",
       "State-gov            3.994813\n",
       "Self-emp-inc         3.453375\n",
       "Federal-gov          2.921036\n",
       "Without-pay          0.045499\n",
       "Never-worked         0.018200\n",
       "Name: workclass, dtype: float64"
      ]
     },
     "execution_count": 9,
     "metadata": {},
     "output_type": "execute_result"
    }
   ],
   "source": [
    "df.workclass.value_counts()*100/len(df)"
   ]
  },
  {
   "cell_type": "code",
   "execution_count": 10,
   "id": "fe1e1e84",
   "metadata": {},
   "outputs": [
    {
     "data": {
      "text/plain": [
       "HS-grad         32.297473\n",
       "Some-college    22.271766\n",
       "Bachelors       16.422868\n",
       "Masters          5.441682\n",
       "Assoc-voc        4.165434\n",
       "11th             3.746844\n",
       "Assoc-acdm       3.291853\n",
       "10th             2.843688\n",
       "7th-8th          1.961007\n",
       "Prof-school      1.701663\n",
       "9th              1.556066\n",
       "12th             1.335396\n",
       "Doctorate        1.219373\n",
       "5th-6th          1.064677\n",
       "1st-4th          0.507314\n",
       "Preschool        0.172896\n",
       "Name: education, dtype: float64"
      ]
     },
     "execution_count": 10,
     "metadata": {},
     "output_type": "execute_result"
    }
   ],
   "source": [
    "df.education.value_counts()*100/len(df)"
   ]
  },
  {
   "cell_type": "code",
   "execution_count": 11,
   "id": "34b0152d",
   "metadata": {},
   "outputs": [
    {
     "data": {
      "text/plain": [
       "Married-civ-spouse       45.833428\n",
       "Never-married            33.016357\n",
       "Divorced                 13.583730\n",
       "Widowed                   3.103033\n",
       "Separated                 3.096208\n",
       "Married-spouse-absent     1.296722\n",
       "Married-AF-spouse         0.070523\n",
       "Name: marital-status, dtype: float64"
      ]
     },
     "execution_count": 11,
     "metadata": {},
     "output_type": "execute_result"
    }
   ],
   "source": [
    "df['marital-status'].value_counts()*100/len(df)"
   ]
  },
  {
   "cell_type": "code",
   "execution_count": 12,
   "id": "e4c62a85",
   "metadata": {},
   "outputs": [
    {
     "data": {
      "text/plain": [
       "Husband           40.378097\n",
       "Not-in-family     25.754715\n",
       "Own-child         15.551562\n",
       "Unmarried         10.469322\n",
       "Wife               4.756922\n",
       "Other-relative     3.089383\n",
       "Name: relationship, dtype: float64"
      ]
     },
     "execution_count": 12,
     "metadata": {},
     "output_type": "execute_result"
    }
   ],
   "source": [
    "df.relationship.value_counts()*100/len(df)"
   ]
  },
  {
   "cell_type": "code",
   "execution_count": 13,
   "id": "bd014fe8",
   "metadata": {},
   "outputs": [
    {
     "data": {
      "text/plain": [
       "White                 85.474441\n",
       "Black                  9.595741\n",
       "Asian-Pac-Islander     3.123507\n",
       "Amer-Indian-Eskimo     0.957754\n",
       "Other                  0.848557\n",
       "Name: race, dtype: float64"
      ]
     },
     "execution_count": 13,
     "metadata": {},
     "output_type": "execute_result"
    }
   ],
   "source": [
    "df.race.value_counts()*100/len(df)"
   ]
  },
  {
   "cell_type": "code",
   "execution_count": 14,
   "id": "ea57c2e2",
   "metadata": {},
   "outputs": [
    {
     "data": {
      "text/plain": [
       "Male      66.883545\n",
       "Female    33.116455\n",
       "Name: gender, dtype: float64"
      ]
     },
     "execution_count": 14,
     "metadata": {},
     "output_type": "execute_result"
    }
   ],
   "source": [
    "df.gender.value_counts()*100/len(df)"
   ]
  },
  {
   "cell_type": "code",
   "execution_count": 15,
   "id": "9034c694",
   "metadata": {},
   "outputs": [
    {
     "data": {
      "text/plain": [
       "United-States                 89.699024\n",
       "Mexico                         2.001956\n",
       "Philippines                    0.621061\n",
       "Germany                        0.427691\n",
       "Puerto-Rico                    0.379917\n",
       "Canada                         0.359442\n",
       "El-Salvador                    0.329868\n",
       "India                          0.304843\n",
       "Cuba                           0.282094\n",
       "China                          0.257069\n",
       "England                        0.247970\n",
       "South                          0.238870\n",
       "Dominican-Republic             0.220670\n",
       "Jamaica                        0.220670\n",
       "Italy                          0.213845\n",
       "Japan                          0.188821\n",
       "Guatemala                      0.179721\n",
       "Vietnam                        0.175171\n",
       "Columbia                       0.170621\n",
       "Poland                         0.163796\n",
       "Haiti                          0.161521\n",
       "Portugal                       0.134222\n",
       "Taiwan                         0.131947\n",
       "Iran                           0.118297\n",
       "Nicaragua                      0.104648\n",
       "Greece                         0.100098\n",
       "Ecuador                        0.095548\n",
       "Peru                           0.090998\n",
       "Ireland                        0.072798\n",
       "France                         0.072798\n",
       "Hong                           0.065974\n",
       "Thailand                       0.065974\n",
       "Cambodia                       0.054599\n",
       "Trinadad&Tobago                0.050049\n",
       "Honduras                       0.045499\n",
       "Scotland                       0.043224\n",
       "Yugoslavia                     0.043224\n",
       "Outlying-US(Guam-USVI-etc)     0.043224\n",
       "Laos                           0.043224\n",
       "Hungary                        0.040949\n",
       "Holand-Netherlands             0.002275\n",
       "Name: native-country, dtype: float64"
      ]
     },
     "execution_count": 15,
     "metadata": {},
     "output_type": "execute_result"
    }
   ],
   "source": [
    "df['native-country'].value_counts()*100/len(df)"
   ]
  },
  {
   "cell_type": "code",
   "execution_count": 8,
   "id": "be654d76",
   "metadata": {},
   "outputs": [
    {
     "data": {
      "text/html": [
       "<div>\n",
       "<style scoped>\n",
       "    .dataframe tbody tr th:only-of-type {\n",
       "        vertical-align: middle;\n",
       "    }\n",
       "\n",
       "    .dataframe tbody tr th {\n",
       "        vertical-align: top;\n",
       "    }\n",
       "\n",
       "    .dataframe thead th {\n",
       "        text-align: right;\n",
       "    }\n",
       "</style>\n",
       "<table border=\"1\" class=\"dataframe\">\n",
       "  <thead>\n",
       "    <tr style=\"text-align: right;\">\n",
       "      <th></th>\n",
       "      <th>age</th>\n",
       "      <th>fnlwgt</th>\n",
       "      <th>educational-num</th>\n",
       "      <th>capital-gain</th>\n",
       "      <th>capital-loss</th>\n",
       "      <th>hours-per-week</th>\n",
       "      <th>income_&gt;50K</th>\n",
       "    </tr>\n",
       "  </thead>\n",
       "  <tbody>\n",
       "    <tr>\n",
       "      <th>count</th>\n",
       "      <td>43957.000000</td>\n",
       "      <td>4.395700e+04</td>\n",
       "      <td>43957.000000</td>\n",
       "      <td>43957.000000</td>\n",
       "      <td>43957.000000</td>\n",
       "      <td>43957.000000</td>\n",
       "      <td>43957.000000</td>\n",
       "    </tr>\n",
       "    <tr>\n",
       "      <th>mean</th>\n",
       "      <td>38.617149</td>\n",
       "      <td>1.896730e+05</td>\n",
       "      <td>10.074118</td>\n",
       "      <td>1093.559797</td>\n",
       "      <td>88.246491</td>\n",
       "      <td>40.407694</td>\n",
       "      <td>0.239279</td>\n",
       "    </tr>\n",
       "    <tr>\n",
       "      <th>std</th>\n",
       "      <td>13.734401</td>\n",
       "      <td>1.058215e+05</td>\n",
       "      <td>2.575092</td>\n",
       "      <td>7570.536063</td>\n",
       "      <td>404.588410</td>\n",
       "      <td>12.400303</td>\n",
       "      <td>0.426648</td>\n",
       "    </tr>\n",
       "    <tr>\n",
       "      <th>min</th>\n",
       "      <td>17.000000</td>\n",
       "      <td>1.349200e+04</td>\n",
       "      <td>1.000000</td>\n",
       "      <td>0.000000</td>\n",
       "      <td>0.000000</td>\n",
       "      <td>1.000000</td>\n",
       "      <td>0.000000</td>\n",
       "    </tr>\n",
       "    <tr>\n",
       "      <th>25%</th>\n",
       "      <td>28.000000</td>\n",
       "      <td>1.174960e+05</td>\n",
       "      <td>9.000000</td>\n",
       "      <td>0.000000</td>\n",
       "      <td>0.000000</td>\n",
       "      <td>40.000000</td>\n",
       "      <td>0.000000</td>\n",
       "    </tr>\n",
       "    <tr>\n",
       "      <th>50%</th>\n",
       "      <td>37.000000</td>\n",
       "      <td>1.781000e+05</td>\n",
       "      <td>10.000000</td>\n",
       "      <td>0.000000</td>\n",
       "      <td>0.000000</td>\n",
       "      <td>40.000000</td>\n",
       "      <td>0.000000</td>\n",
       "    </tr>\n",
       "    <tr>\n",
       "      <th>75%</th>\n",
       "      <td>48.000000</td>\n",
       "      <td>2.376710e+05</td>\n",
       "      <td>12.000000</td>\n",
       "      <td>0.000000</td>\n",
       "      <td>0.000000</td>\n",
       "      <td>45.000000</td>\n",
       "      <td>0.000000</td>\n",
       "    </tr>\n",
       "    <tr>\n",
       "      <th>max</th>\n",
       "      <td>90.000000</td>\n",
       "      <td>1.490400e+06</td>\n",
       "      <td>16.000000</td>\n",
       "      <td>99999.000000</td>\n",
       "      <td>4356.000000</td>\n",
       "      <td>99.000000</td>\n",
       "      <td>1.000000</td>\n",
       "    </tr>\n",
       "  </tbody>\n",
       "</table>\n",
       "</div>"
      ],
      "text/plain": [
       "                age        fnlwgt  educational-num  capital-gain  \\\n",
       "count  43957.000000  4.395700e+04     43957.000000  43957.000000   \n",
       "mean      38.617149  1.896730e+05        10.074118   1093.559797   \n",
       "std       13.734401  1.058215e+05         2.575092   7570.536063   \n",
       "min       17.000000  1.349200e+04         1.000000      0.000000   \n",
       "25%       28.000000  1.174960e+05         9.000000      0.000000   \n",
       "50%       37.000000  1.781000e+05        10.000000      0.000000   \n",
       "75%       48.000000  2.376710e+05        12.000000      0.000000   \n",
       "max       90.000000  1.490400e+06        16.000000  99999.000000   \n",
       "\n",
       "       capital-loss  hours-per-week   income_>50K  \n",
       "count  43957.000000    43957.000000  43957.000000  \n",
       "mean      88.246491       40.407694      0.239279  \n",
       "std      404.588410       12.400303      0.426648  \n",
       "min        0.000000        1.000000      0.000000  \n",
       "25%        0.000000       40.000000      0.000000  \n",
       "50%        0.000000       40.000000      0.000000  \n",
       "75%        0.000000       45.000000      0.000000  \n",
       "max     4356.000000       99.000000      1.000000  "
      ]
     },
     "execution_count": 8,
     "metadata": {},
     "output_type": "execute_result"
    }
   ],
   "source": [
    "df.describe()"
   ]
  },
  {
   "cell_type": "code",
   "execution_count": null,
   "id": "4e95cc10",
   "metadata": {},
   "outputs": [],
   "source": []
  },
  {
   "cell_type": "code",
   "execution_count": null,
   "id": "24ecc76e",
   "metadata": {},
   "outputs": [],
   "source": []
  },
  {
   "cell_type": "raw",
   "id": "210fd4b2",
   "metadata": {},
   "source": [
    "## Data Cleaning"
   ]
  },
  {
   "cell_type": "code",
   "execution_count": 17,
   "id": "5ed71604",
   "metadata": {},
   "outputs": [
    {
     "data": {
      "text/plain": [
       "age                0.000000\n",
       "workclass          5.682826\n",
       "fnlwgt             0.000000\n",
       "education          0.000000\n",
       "educational-num    0.000000\n",
       "marital-status     0.000000\n",
       "occupation         5.701026\n",
       "relationship       0.000000\n",
       "race               0.000000\n",
       "gender             0.000000\n",
       "capital-gain       0.000000\n",
       "capital-loss       0.000000\n",
       "hours-per-week     0.000000\n",
       "native-country     1.735787\n",
       "income_>50K        0.000000\n",
       "dtype: float64"
      ]
     },
     "execution_count": 17,
     "metadata": {},
     "output_type": "execute_result"
    }
   ],
   "source": [
    "df.isna().sum()*100/len(df)"
   ]
  },
  {
   "cell_type": "code",
   "execution_count": 18,
   "id": "759299c6",
   "metadata": {},
   "outputs": [
    {
     "name": "stdout",
     "output_type": "stream",
     "text": [
      "(43957, 15)\n",
      "(40727, 15)\n"
     ]
    }
   ],
   "source": [
    "print(df.shape)\n",
    "df.dropna(inplace=True)\n",
    "print(df.shape)"
   ]
  },
  {
   "cell_type": "code",
   "execution_count": null,
   "id": "b8dbbdcc",
   "metadata": {},
   "outputs": [],
   "source": []
  },
  {
   "cell_type": "code",
   "execution_count": 22,
   "id": "8ad73c7f",
   "metadata": {},
   "outputs": [],
   "source": [
    "df['native-country'] = np.where(df['native-country']!='United-States','NON_USA',df['native-country'])\n",
    "df['race'] = np.where(df['race']!='White','NON_White',df['race'])\n",
    "\n",
    "relationship_list = ['Husband','Not-in-family','Own-child']\n",
    "df['relationship'] = np.where(df['relationship'].isin(relationship_list),df['relationship'],\"other\")\n",
    "\n",
    "\n",
    "relationship_list = ['Husband','Not-in-family','Own-child']\n",
    "df['relationship'] = np.where(df['relationship'].isin(relationship_list),df['relationship'],\"other\")\n",
    "\n",
    "workclass_list = ['Private','Self-emp-not-inc']\n",
    "df['workclass'] = np.where(df['workclass'].isin(workclass_list),df['workclass'],\"other\")\n",
    "\n",
    "education_list = ['HS-grad','Some-college','Bachelors','Masters']\n",
    "df['education'] = np.where(df['education'].isin(education_list),df['education'],\"other\")  \n",
    "    \n",
    "\n",
    "marital_list = ['Married-civ-spouse','Never-married']\n",
    "df['marital-status'] = np.where(df['marital-status'].isin(marital_list),df['marital-status'],\"other\") "
   ]
  },
  {
   "cell_type": "code",
   "execution_count": 23,
   "id": "9544a8b4",
   "metadata": {},
   "outputs": [
    {
     "data": {
      "text/plain": [
       "Private             73.801164\n",
       "other               17.840744\n",
       "Self-emp-not-inc     8.358092\n",
       "Name: workclass, dtype: float64"
      ]
     },
     "execution_count": 23,
     "metadata": {},
     "output_type": "execute_result"
    }
   ],
   "source": [
    "df.workclass.value_counts()*100/len(df)"
   ]
  },
  {
   "cell_type": "code",
   "execution_count": 24,
   "id": "31a12175",
   "metadata": {},
   "outputs": [
    {
     "data": {
      "text/plain": [
       "HS-grad         32.683478\n",
       "other           23.154173\n",
       "Some-college    21.872468\n",
       "Bachelors       16.723549\n",
       "Masters          5.566332\n",
       "Name: education, dtype: float64"
      ]
     },
     "execution_count": 24,
     "metadata": {},
     "output_type": "execute_result"
    }
   ],
   "source": [
    "df.education.value_counts()*100/len(df)"
   ]
  },
  {
   "cell_type": "code",
   "execution_count": 25,
   "id": "10b8b9aa",
   "metadata": {},
   "outputs": [
    {
     "data": {
      "text/plain": [
       "Married-civ-spouse    46.593169\n",
       "Never-married         32.302895\n",
       "other                 21.103936\n",
       "Name: marital-status, dtype: float64"
      ]
     },
     "execution_count": 25,
     "metadata": {},
     "output_type": "execute_result"
    }
   ],
   "source": [
    "df['marital-status'].value_counts()*100/len(df)"
   ]
  },
  {
   "cell_type": "code",
   "execution_count": 26,
   "id": "8155a2ce",
   "metadata": {},
   "outputs": [
    {
     "data": {
      "text/plain": [
       "Husband          41.287107\n",
       "Not-in-family    25.850173\n",
       "other            18.184497\n",
       "Own-child        14.678223\n",
       "Name: relationship, dtype: float64"
      ]
     },
     "execution_count": 26,
     "metadata": {},
     "output_type": "execute_result"
    }
   ],
   "source": [
    "df.relationship.value_counts()*100/len(df)"
   ]
  },
  {
   "cell_type": "code",
   "execution_count": 27,
   "id": "dd3f2a47",
   "metadata": {},
   "outputs": [
    {
     "data": {
      "text/plain": [
       "White        85.955263\n",
       "NON_White    14.044737\n",
       "Name: race, dtype: float64"
      ]
     },
     "execution_count": 27,
     "metadata": {},
     "output_type": "execute_result"
    }
   ],
   "source": [
    "df.race.value_counts()*100/len(df)"
   ]
  },
  {
   "cell_type": "code",
   "execution_count": 28,
   "id": "6aaba5a3",
   "metadata": {},
   "outputs": [
    {
     "data": {
      "text/plain": [
       "Male      67.49822\n",
       "Female    32.50178\n",
       "Name: gender, dtype: float64"
      ]
     },
     "execution_count": 28,
     "metadata": {},
     "output_type": "execute_result"
    }
   ],
   "source": [
    "df.gender.value_counts()*100/len(df)"
   ]
  },
  {
   "cell_type": "code",
   "execution_count": 29,
   "id": "2143b458",
   "metadata": {},
   "outputs": [
    {
     "data": {
      "text/plain": [
       "United-States    91.261325\n",
       "NON_USA           8.738675\n",
       "Name: native-country, dtype: float64"
      ]
     },
     "execution_count": 29,
     "metadata": {},
     "output_type": "execute_result"
    }
   ],
   "source": [
    "df['native-country'].value_counts()*100/len(df)"
   ]
  },
  {
   "cell_type": "code",
   "execution_count": null,
   "id": "11a88a7d",
   "metadata": {},
   "outputs": [],
   "source": []
  },
  {
   "cell_type": "code",
   "execution_count": null,
   "id": "6fbc30a6",
   "metadata": {},
   "outputs": [],
   "source": []
  },
  {
   "cell_type": "code",
   "execution_count": null,
   "id": "70e5736a",
   "metadata": {},
   "outputs": [],
   "source": [
    "## Preprocessing"
   ]
  },
  {
   "cell_type": "code",
   "execution_count": 33,
   "id": "bca39fea",
   "metadata": {},
   "outputs": [],
   "source": [
    "df = pd.get_dummies(df,drop_first=True)"
   ]
  },
  {
   "cell_type": "code",
   "execution_count": 35,
   "id": "10bf5e07",
   "metadata": {},
   "outputs": [
    {
     "data": {
      "text/html": [
       "<div>\n",
       "<style scoped>\n",
       "    .dataframe tbody tr th:only-of-type {\n",
       "        vertical-align: middle;\n",
       "    }\n",
       "\n",
       "    .dataframe tbody tr th {\n",
       "        vertical-align: top;\n",
       "    }\n",
       "\n",
       "    .dataframe thead th {\n",
       "        text-align: right;\n",
       "    }\n",
       "</style>\n",
       "<table border=\"1\" class=\"dataframe\">\n",
       "  <thead>\n",
       "    <tr style=\"text-align: right;\">\n",
       "      <th></th>\n",
       "      <th>age</th>\n",
       "      <th>fnlwgt</th>\n",
       "      <th>educational-num</th>\n",
       "      <th>capital-gain</th>\n",
       "      <th>capital-loss</th>\n",
       "      <th>hours-per-week</th>\n",
       "      <th>income_&gt;50K</th>\n",
       "      <th>workclass_Self-emp-not-inc</th>\n",
       "      <th>workclass_other</th>\n",
       "      <th>education_HS-grad</th>\n",
       "      <th>...</th>\n",
       "      <th>occupation_Protective-serv</th>\n",
       "      <th>occupation_Sales</th>\n",
       "      <th>occupation_Tech-support</th>\n",
       "      <th>occupation_Transport-moving</th>\n",
       "      <th>relationship_Not-in-family</th>\n",
       "      <th>relationship_Own-child</th>\n",
       "      <th>relationship_other</th>\n",
       "      <th>race_White</th>\n",
       "      <th>gender_Male</th>\n",
       "      <th>native-country_United-States</th>\n",
       "    </tr>\n",
       "  </thead>\n",
       "  <tbody>\n",
       "    <tr>\n",
       "      <th>0</th>\n",
       "      <td>67</td>\n",
       "      <td>366425</td>\n",
       "      <td>16</td>\n",
       "      <td>99999</td>\n",
       "      <td>0</td>\n",
       "      <td>60</td>\n",
       "      <td>1</td>\n",
       "      <td>0</td>\n",
       "      <td>0</td>\n",
       "      <td>0</td>\n",
       "      <td>...</td>\n",
       "      <td>0</td>\n",
       "      <td>0</td>\n",
       "      <td>0</td>\n",
       "      <td>0</td>\n",
       "      <td>1</td>\n",
       "      <td>0</td>\n",
       "      <td>0</td>\n",
       "      <td>1</td>\n",
       "      <td>1</td>\n",
       "      <td>1</td>\n",
       "    </tr>\n",
       "    <tr>\n",
       "      <th>1</th>\n",
       "      <td>17</td>\n",
       "      <td>244602</td>\n",
       "      <td>8</td>\n",
       "      <td>0</td>\n",
       "      <td>0</td>\n",
       "      <td>15</td>\n",
       "      <td>0</td>\n",
       "      <td>0</td>\n",
       "      <td>0</td>\n",
       "      <td>0</td>\n",
       "      <td>...</td>\n",
       "      <td>0</td>\n",
       "      <td>0</td>\n",
       "      <td>0</td>\n",
       "      <td>0</td>\n",
       "      <td>0</td>\n",
       "      <td>1</td>\n",
       "      <td>0</td>\n",
       "      <td>1</td>\n",
       "      <td>1</td>\n",
       "      <td>1</td>\n",
       "    </tr>\n",
       "  </tbody>\n",
       "</table>\n",
       "<p>2 rows × 34 columns</p>\n",
       "</div>"
      ],
      "text/plain": [
       "   age  fnlwgt  educational-num  capital-gain  capital-loss  hours-per-week  \\\n",
       "0   67  366425               16         99999             0              60   \n",
       "1   17  244602                8             0             0              15   \n",
       "\n",
       "   income_>50K  workclass_Self-emp-not-inc  workclass_other  \\\n",
       "0            1                           0                0   \n",
       "1            0                           0                0   \n",
       "\n",
       "   education_HS-grad  ...  occupation_Protective-serv  occupation_Sales  \\\n",
       "0                  0  ...                           0                 0   \n",
       "1                  0  ...                           0                 0   \n",
       "\n",
       "   occupation_Tech-support  occupation_Transport-moving  \\\n",
       "0                        0                            0   \n",
       "1                        0                            0   \n",
       "\n",
       "   relationship_Not-in-family  relationship_Own-child  relationship_other  \\\n",
       "0                           1                       0                   0   \n",
       "1                           0                       1                   0   \n",
       "\n",
       "   race_White  gender_Male  native-country_United-States  \n",
       "0           1            1                             1  \n",
       "1           1            1                             1  \n",
       "\n",
       "[2 rows x 34 columns]"
      ]
     },
     "execution_count": 35,
     "metadata": {},
     "output_type": "execute_result"
    }
   ],
   "source": [
    "df.head(2)"
   ]
  },
  {
   "cell_type": "code",
   "execution_count": 36,
   "id": "e8d81fcd",
   "metadata": {},
   "outputs": [],
   "source": [
    "# Multi collinearity\n",
    "from statsmodels.stats.outliers_influence import variance_inflation_factor\n",
    "from statsmodels.tools.tools import add_constant\n",
    "\n",
    "# compute the vif for all given features\n",
    "def compute_vif(df,considered_features):\n",
    "    \n",
    "    X = df[considered_features]\n",
    "    # the calculation of variance inflation requires a constant\n",
    "    X['intercept'] = 1\n",
    "    \n",
    "    # create dataframe to store vif values\n",
    "    vif = pd.DataFrame()\n",
    "    vif[\"Variable\"] = X.columns\n",
    "    vif[\"VIF\"] = [variance_inflation_factor(X.values, i) for i in range(X.shape[1])]\n",
    "    vif = vif[vif['Variable']!='intercept']\n",
    "    return vif"
   ]
  },
  {
   "cell_type": "code",
   "execution_count": 39,
   "id": "e2da1bf5",
   "metadata": {},
   "outputs": [
    {
     "data": {
      "text/html": [
       "<div>\n",
       "<style scoped>\n",
       "    .dataframe tbody tr th:only-of-type {\n",
       "        vertical-align: middle;\n",
       "    }\n",
       "\n",
       "    .dataframe tbody tr th {\n",
       "        vertical-align: top;\n",
       "    }\n",
       "\n",
       "    .dataframe thead th {\n",
       "        text-align: right;\n",
       "    }\n",
       "</style>\n",
       "<table border=\"1\" class=\"dataframe\">\n",
       "  <thead>\n",
       "    <tr style=\"text-align: right;\">\n",
       "      <th></th>\n",
       "      <th>Variable</th>\n",
       "      <th>VIF</th>\n",
       "    </tr>\n",
       "  </thead>\n",
       "  <tbody>\n",
       "    <tr>\n",
       "      <th>27</th>\n",
       "      <td>relationship_Not-in-family</td>\n",
       "      <td>6.883455</td>\n",
       "    </tr>\n",
       "    <tr>\n",
       "      <th>12</th>\n",
       "      <td>marital-status_Never-married</td>\n",
       "      <td>6.682757</td>\n",
       "    </tr>\n",
       "    <tr>\n",
       "      <th>28</th>\n",
       "      <td>relationship_Own-child</td>\n",
       "      <td>5.241970</td>\n",
       "    </tr>\n",
       "    <tr>\n",
       "      <th>13</th>\n",
       "      <td>marital-status_other</td>\n",
       "      <td>4.544861</td>\n",
       "    </tr>\n",
       "    <tr>\n",
       "      <th>29</th>\n",
       "      <td>relationship_other</td>\n",
       "      <td>4.216141</td>\n",
       "    </tr>\n",
       "    <tr>\n",
       "      <th>8</th>\n",
       "      <td>education_HS-grad</td>\n",
       "      <td>3.179293</td>\n",
       "    </tr>\n",
       "    <tr>\n",
       "      <th>11</th>\n",
       "      <td>education_other</td>\n",
       "      <td>2.832828</td>\n",
       "    </tr>\n",
       "    <tr>\n",
       "      <th>2</th>\n",
       "      <td>educational-num</td>\n",
       "      <td>2.367779</td>\n",
       "    </tr>\n",
       "    <tr>\n",
       "      <th>10</th>\n",
       "      <td>education_Some-college</td>\n",
       "      <td>2.335029</td>\n",
       "    </tr>\n",
       "    <tr>\n",
       "      <th>22</th>\n",
       "      <td>occupation_Prof-specialty</td>\n",
       "      <td>2.209334</td>\n",
       "    </tr>\n",
       "    <tr>\n",
       "      <th>15</th>\n",
       "      <td>occupation_Craft-repair</td>\n",
       "      <td>2.169222</td>\n",
       "    </tr>\n",
       "    <tr>\n",
       "      <th>16</th>\n",
       "      <td>occupation_Exec-managerial</td>\n",
       "      <td>2.048463</td>\n",
       "    </tr>\n",
       "    <tr>\n",
       "      <th>31</th>\n",
       "      <td>gender_Male</td>\n",
       "      <td>1.958671</td>\n",
       "    </tr>\n",
       "    <tr>\n",
       "      <th>24</th>\n",
       "      <td>occupation_Sales</td>\n",
       "      <td>1.857741</td>\n",
       "    </tr>\n",
       "    <tr>\n",
       "      <th>20</th>\n",
       "      <td>occupation_Other-service</td>\n",
       "      <td>1.762022</td>\n",
       "    </tr>\n",
       "    <tr>\n",
       "      <th>19</th>\n",
       "      <td>occupation_Machine-op-inspct</td>\n",
       "      <td>1.574426</td>\n",
       "    </tr>\n",
       "    <tr>\n",
       "      <th>0</th>\n",
       "      <td>age</td>\n",
       "      <td>1.560725</td>\n",
       "    </tr>\n",
       "    <tr>\n",
       "      <th>26</th>\n",
       "      <td>occupation_Transport-moving</td>\n",
       "      <td>1.511292</td>\n",
       "    </tr>\n",
       "    <tr>\n",
       "      <th>18</th>\n",
       "      <td>occupation_Handlers-cleaners</td>\n",
       "      <td>1.446707</td>\n",
       "    </tr>\n",
       "    <tr>\n",
       "      <th>17</th>\n",
       "      <td>occupation_Farming-fishing</td>\n",
       "      <td>1.410950</td>\n",
       "    </tr>\n",
       "    <tr>\n",
       "      <th>9</th>\n",
       "      <td>education_Masters</td>\n",
       "      <td>1.306216</td>\n",
       "    </tr>\n",
       "    <tr>\n",
       "      <th>25</th>\n",
       "      <td>occupation_Tech-support</td>\n",
       "      <td>1.248085</td>\n",
       "    </tr>\n",
       "    <tr>\n",
       "      <th>23</th>\n",
       "      <td>occupation_Protective-serv</td>\n",
       "      <td>1.220467</td>\n",
       "    </tr>\n",
       "    <tr>\n",
       "      <th>5</th>\n",
       "      <td>hours-per-week</td>\n",
       "      <td>1.206383</td>\n",
       "    </tr>\n",
       "    <tr>\n",
       "      <th>7</th>\n",
       "      <td>workclass_other</td>\n",
       "      <td>1.182613</td>\n",
       "    </tr>\n",
       "    <tr>\n",
       "      <th>6</th>\n",
       "      <td>workclass_Self-emp-not-inc</td>\n",
       "      <td>1.144494</td>\n",
       "    </tr>\n",
       "    <tr>\n",
       "      <th>32</th>\n",
       "      <td>native-country_United-States</td>\n",
       "      <td>1.100082</td>\n",
       "    </tr>\n",
       "    <tr>\n",
       "      <th>30</th>\n",
       "      <td>race_White</td>\n",
       "      <td>1.081747</td>\n",
       "    </tr>\n",
       "    <tr>\n",
       "      <th>21</th>\n",
       "      <td>occupation_Priv-house-serv</td>\n",
       "      <td>1.057703</td>\n",
       "    </tr>\n",
       "    <tr>\n",
       "      <th>3</th>\n",
       "      <td>capital-gain</td>\n",
       "      <td>1.040219</td>\n",
       "    </tr>\n",
       "    <tr>\n",
       "      <th>1</th>\n",
       "      <td>fnlwgt</td>\n",
       "      <td>1.020551</td>\n",
       "    </tr>\n",
       "    <tr>\n",
       "      <th>4</th>\n",
       "      <td>capital-loss</td>\n",
       "      <td>1.018895</td>\n",
       "    </tr>\n",
       "    <tr>\n",
       "      <th>14</th>\n",
       "      <td>occupation_Armed-Forces</td>\n",
       "      <td>1.004649</td>\n",
       "    </tr>\n",
       "  </tbody>\n",
       "</table>\n",
       "</div>"
      ],
      "text/plain": [
       "                        Variable       VIF\n",
       "27    relationship_Not-in-family  6.883455\n",
       "12  marital-status_Never-married  6.682757\n",
       "28        relationship_Own-child  5.241970\n",
       "13          marital-status_other  4.544861\n",
       "29            relationship_other  4.216141\n",
       "8              education_HS-grad  3.179293\n",
       "11               education_other  2.832828\n",
       "2                educational-num  2.367779\n",
       "10        education_Some-college  2.335029\n",
       "22     occupation_Prof-specialty  2.209334\n",
       "15       occupation_Craft-repair  2.169222\n",
       "16    occupation_Exec-managerial  2.048463\n",
       "31                   gender_Male  1.958671\n",
       "24              occupation_Sales  1.857741\n",
       "20      occupation_Other-service  1.762022\n",
       "19  occupation_Machine-op-inspct  1.574426\n",
       "0                            age  1.560725\n",
       "26   occupation_Transport-moving  1.511292\n",
       "18  occupation_Handlers-cleaners  1.446707\n",
       "17    occupation_Farming-fishing  1.410950\n",
       "9              education_Masters  1.306216\n",
       "25       occupation_Tech-support  1.248085\n",
       "23    occupation_Protective-serv  1.220467\n",
       "5                 hours-per-week  1.206383\n",
       "7                workclass_other  1.182613\n",
       "6     workclass_Self-emp-not-inc  1.144494\n",
       "32  native-country_United-States  1.100082\n",
       "30                    race_White  1.081747\n",
       "21    occupation_Priv-house-serv  1.057703\n",
       "3                   capital-gain  1.040219\n",
       "1                         fnlwgt  1.020551\n",
       "4                   capital-loss  1.018895\n",
       "14       occupation_Armed-Forces  1.004649"
      ]
     },
     "execution_count": 39,
     "metadata": {},
     "output_type": "execute_result"
    }
   ],
   "source": [
    "considered_features = list(df.columns)\n",
    "considered_features.remove('income_>50K')\n",
    "compute_vif(df,considered_features).sort_values(by = 'VIF',ascending = False)"
   ]
  },
  {
   "cell_type": "code",
   "execution_count": 40,
   "id": "10e630c4",
   "metadata": {},
   "outputs": [
    {
     "name": "stderr",
     "output_type": "stream",
     "text": [
      "<ipython-input-36-fddd2b00bafd>:10: SettingWithCopyWarning: \n",
      "A value is trying to be set on a copy of a slice from a DataFrame.\n",
      "Try using .loc[row_indexer,col_indexer] = value instead\n",
      "\n",
      "See the caveats in the documentation: https://pandas.pydata.org/pandas-docs/stable/user_guide/indexing.html#returning-a-view-versus-a-copy\n",
      "  X['intercept'] = 1\n"
     ]
    },
    {
     "data": {
      "text/html": [
       "<div>\n",
       "<style scoped>\n",
       "    .dataframe tbody tr th:only-of-type {\n",
       "        vertical-align: middle;\n",
       "    }\n",
       "\n",
       "    .dataframe tbody tr th {\n",
       "        vertical-align: top;\n",
       "    }\n",
       "\n",
       "    .dataframe thead th {\n",
       "        text-align: right;\n",
       "    }\n",
       "</style>\n",
       "<table border=\"1\" class=\"dataframe\">\n",
       "  <thead>\n",
       "    <tr style=\"text-align: right;\">\n",
       "      <th></th>\n",
       "      <th>Variable</th>\n",
       "      <th>VIF</th>\n",
       "    </tr>\n",
       "  </thead>\n",
       "  <tbody>\n",
       "    <tr>\n",
       "      <th>8</th>\n",
       "      <td>education_HS-grad</td>\n",
       "      <td>3.178600</td>\n",
       "    </tr>\n",
       "    <tr>\n",
       "      <th>11</th>\n",
       "      <td>education_other</td>\n",
       "      <td>2.831702</td>\n",
       "    </tr>\n",
       "    <tr>\n",
       "      <th>2</th>\n",
       "      <td>educational-num</td>\n",
       "      <td>2.367637</td>\n",
       "    </tr>\n",
       "    <tr>\n",
       "      <th>10</th>\n",
       "      <td>education_Some-college</td>\n",
       "      <td>2.334039</td>\n",
       "    </tr>\n",
       "    <tr>\n",
       "      <th>22</th>\n",
       "      <td>occupation_Prof-specialty</td>\n",
       "      <td>2.208450</td>\n",
       "    </tr>\n",
       "    <tr>\n",
       "      <th>15</th>\n",
       "      <td>occupation_Craft-repair</td>\n",
       "      <td>2.169191</td>\n",
       "    </tr>\n",
       "    <tr>\n",
       "      <th>16</th>\n",
       "      <td>occupation_Exec-managerial</td>\n",
       "      <td>2.048396</td>\n",
       "    </tr>\n",
       "    <tr>\n",
       "      <th>12</th>\n",
       "      <td>marital-status_Never-married</td>\n",
       "      <td>1.946551</td>\n",
       "    </tr>\n",
       "    <tr>\n",
       "      <th>24</th>\n",
       "      <td>occupation_Sales</td>\n",
       "      <td>1.857243</td>\n",
       "    </tr>\n",
       "    <tr>\n",
       "      <th>30</th>\n",
       "      <td>gender_Male</td>\n",
       "      <td>1.769153</td>\n",
       "    </tr>\n",
       "    <tr>\n",
       "      <th>20</th>\n",
       "      <td>occupation_Other-service</td>\n",
       "      <td>1.762018</td>\n",
       "    </tr>\n",
       "    <tr>\n",
       "      <th>27</th>\n",
       "      <td>relationship_Own-child</td>\n",
       "      <td>1.583753</td>\n",
       "    </tr>\n",
       "    <tr>\n",
       "      <th>19</th>\n",
       "      <td>occupation_Machine-op-inspct</td>\n",
       "      <td>1.574364</td>\n",
       "    </tr>\n",
       "    <tr>\n",
       "      <th>0</th>\n",
       "      <td>age</td>\n",
       "      <td>1.558588</td>\n",
       "    </tr>\n",
       "    <tr>\n",
       "      <th>26</th>\n",
       "      <td>occupation_Transport-moving</td>\n",
       "      <td>1.511257</td>\n",
       "    </tr>\n",
       "    <tr>\n",
       "      <th>13</th>\n",
       "      <td>marital-status_other</td>\n",
       "      <td>1.473312</td>\n",
       "    </tr>\n",
       "    <tr>\n",
       "      <th>18</th>\n",
       "      <td>occupation_Handlers-cleaners</td>\n",
       "      <td>1.446215</td>\n",
       "    </tr>\n",
       "    <tr>\n",
       "      <th>28</th>\n",
       "      <td>relationship_other</td>\n",
       "      <td>1.439292</td>\n",
       "    </tr>\n",
       "    <tr>\n",
       "      <th>17</th>\n",
       "      <td>occupation_Farming-fishing</td>\n",
       "      <td>1.410947</td>\n",
       "    </tr>\n",
       "    <tr>\n",
       "      <th>9</th>\n",
       "      <td>education_Masters</td>\n",
       "      <td>1.306209</td>\n",
       "    </tr>\n",
       "    <tr>\n",
       "      <th>25</th>\n",
       "      <td>occupation_Tech-support</td>\n",
       "      <td>1.248082</td>\n",
       "    </tr>\n",
       "    <tr>\n",
       "      <th>23</th>\n",
       "      <td>occupation_Protective-serv</td>\n",
       "      <td>1.220450</td>\n",
       "    </tr>\n",
       "    <tr>\n",
       "      <th>5</th>\n",
       "      <td>hours-per-week</td>\n",
       "      <td>1.205399</td>\n",
       "    </tr>\n",
       "    <tr>\n",
       "      <th>7</th>\n",
       "      <td>workclass_other</td>\n",
       "      <td>1.182517</td>\n",
       "    </tr>\n",
       "    <tr>\n",
       "      <th>6</th>\n",
       "      <td>workclass_Self-emp-not-inc</td>\n",
       "      <td>1.144341</td>\n",
       "    </tr>\n",
       "    <tr>\n",
       "      <th>31</th>\n",
       "      <td>native-country_United-States</td>\n",
       "      <td>1.099943</td>\n",
       "    </tr>\n",
       "    <tr>\n",
       "      <th>29</th>\n",
       "      <td>race_White</td>\n",
       "      <td>1.080641</td>\n",
       "    </tr>\n",
       "    <tr>\n",
       "      <th>21</th>\n",
       "      <td>occupation_Priv-house-serv</td>\n",
       "      <td>1.057642</td>\n",
       "    </tr>\n",
       "    <tr>\n",
       "      <th>3</th>\n",
       "      <td>capital-gain</td>\n",
       "      <td>1.040176</td>\n",
       "    </tr>\n",
       "    <tr>\n",
       "      <th>1</th>\n",
       "      <td>fnlwgt</td>\n",
       "      <td>1.020536</td>\n",
       "    </tr>\n",
       "    <tr>\n",
       "      <th>4</th>\n",
       "      <td>capital-loss</td>\n",
       "      <td>1.018771</td>\n",
       "    </tr>\n",
       "    <tr>\n",
       "      <th>14</th>\n",
       "      <td>occupation_Armed-Forces</td>\n",
       "      <td>1.004569</td>\n",
       "    </tr>\n",
       "  </tbody>\n",
       "</table>\n",
       "</div>"
      ],
      "text/plain": [
       "                        Variable       VIF\n",
       "8              education_HS-grad  3.178600\n",
       "11               education_other  2.831702\n",
       "2                educational-num  2.367637\n",
       "10        education_Some-college  2.334039\n",
       "22     occupation_Prof-specialty  2.208450\n",
       "15       occupation_Craft-repair  2.169191\n",
       "16    occupation_Exec-managerial  2.048396\n",
       "12  marital-status_Never-married  1.946551\n",
       "24              occupation_Sales  1.857243\n",
       "30                   gender_Male  1.769153\n",
       "20      occupation_Other-service  1.762018\n",
       "27        relationship_Own-child  1.583753\n",
       "19  occupation_Machine-op-inspct  1.574364\n",
       "0                            age  1.558588\n",
       "26   occupation_Transport-moving  1.511257\n",
       "13          marital-status_other  1.473312\n",
       "18  occupation_Handlers-cleaners  1.446215\n",
       "28            relationship_other  1.439292\n",
       "17    occupation_Farming-fishing  1.410947\n",
       "9              education_Masters  1.306209\n",
       "25       occupation_Tech-support  1.248082\n",
       "23    occupation_Protective-serv  1.220450\n",
       "5                 hours-per-week  1.205399\n",
       "7                workclass_other  1.182517\n",
       "6     workclass_Self-emp-not-inc  1.144341\n",
       "31  native-country_United-States  1.099943\n",
       "29                    race_White  1.080641\n",
       "21    occupation_Priv-house-serv  1.057642\n",
       "3                   capital-gain  1.040176\n",
       "1                         fnlwgt  1.020536\n",
       "4                   capital-loss  1.018771\n",
       "14       occupation_Armed-Forces  1.004569"
      ]
     },
     "execution_count": 40,
     "metadata": {},
     "output_type": "execute_result"
    }
   ],
   "source": [
    "considered_features = list(df.columns)\n",
    "considered_features.remove('income_>50K')\n",
    "considered_features.remove('relationship_Not-in-family')\n",
    "compute_vif(df,considered_features).sort_values(by = 'VIF',ascending = False)"
   ]
  },
  {
   "cell_type": "code",
   "execution_count": 41,
   "id": "def234bf",
   "metadata": {},
   "outputs": [],
   "source": [
    "df.drop(columns = 'relationship_Not-in-family',inplace=True)"
   ]
  },
  {
   "cell_type": "code",
   "execution_count": 42,
   "id": "292041a9",
   "metadata": {},
   "outputs": [
    {
     "data": {
      "text/plain": [
       "Index(['age', 'fnlwgt', 'educational-num', 'capital-gain', 'capital-loss',\n",
       "       'hours-per-week', 'income_>50K', 'workclass_Self-emp-not-inc',\n",
       "       'workclass_other', 'education_HS-grad', 'education_Masters',\n",
       "       'education_Some-college', 'education_other',\n",
       "       'marital-status_Never-married', 'marital-status_other',\n",
       "       'occupation_Armed-Forces', 'occupation_Craft-repair',\n",
       "       'occupation_Exec-managerial', 'occupation_Farming-fishing',\n",
       "       'occupation_Handlers-cleaners', 'occupation_Machine-op-inspct',\n",
       "       'occupation_Other-service', 'occupation_Priv-house-serv',\n",
       "       'occupation_Prof-specialty', 'occupation_Protective-serv',\n",
       "       'occupation_Sales', 'occupation_Tech-support',\n",
       "       'occupation_Transport-moving', 'relationship_Own-child',\n",
       "       'relationship_other', 'race_White', 'gender_Male',\n",
       "       'native-country_United-States'],\n",
       "      dtype='object')"
      ]
     },
     "execution_count": 42,
     "metadata": {},
     "output_type": "execute_result"
    }
   ],
   "source": [
    "df.columns"
   ]
  },
  {
   "cell_type": "code",
   "execution_count": null,
   "id": "c36746ed",
   "metadata": {},
   "outputs": [],
   "source": []
  },
  {
   "cell_type": "code",
   "execution_count": null,
   "id": "cd641fcd",
   "metadata": {},
   "outputs": [],
   "source": [
    "# Modelling"
   ]
  },
  {
   "cell_type": "code",
   "execution_count": 44,
   "id": "3a378966",
   "metadata": {},
   "outputs": [],
   "source": [
    "from sklearn.model_selection import train_test_split\n",
    "\n",
    "X = df[considered_features]\n",
    "y = df['income_>50K']\n",
    "\n",
    "X_train, X_test, y_train, y_test = train_test_split(X,y , random_state=42, test_size=0.2)"
   ]
  },
  {
   "cell_type": "code",
   "execution_count": 53,
   "id": "62fdc0e1",
   "metadata": {},
   "outputs": [
    {
     "name": "stdout",
     "output_type": "stream",
     "text": [
      "Fitting 5 folds for each of 12 candidates, totalling 60 fits\n"
     ]
    },
    {
     "data": {
      "text/plain": [
       "GridSearchCV(cv=5, estimator=RandomForestClassifier(), n_jobs=-1,\n",
       "             param_grid={'max_depth': [2, 5, 7, 9],\n",
       "                         'n_estimators': [50, 100, 1000]},\n",
       "             verbose=2)"
      ]
     },
     "execution_count": 53,
     "metadata": {},
     "output_type": "execute_result"
    }
   ],
   "source": [
    "from sklearn.ensemble import RandomForestClassifier\n",
    "from sklearn.model_selection import cross_val_score\n",
    "from sklearn.model_selection import GridSearchCV\n",
    "\n",
    "# Initialize with whatever parameters you want to\n",
    "clf = RandomForestClassifier()\n",
    "\n",
    "param_grid = {\n",
    "    'n_estimators': [50,100,1000],\n",
    "    'max_depth': [2, 5, 7, 9]\n",
    "}\n",
    "\n",
    "\n",
    "grid_clf = GridSearchCV(clf, param_grid, cv=5, verbose = 2,n_jobs=-1)\n",
    "grid_clf.fit(X_train, y_train)"
   ]
  },
  {
   "cell_type": "code",
   "execution_count": 62,
   "id": "3557122f",
   "metadata": {},
   "outputs": [
    {
     "data": {
      "text/plain": [
       "0.8557746030050509"
      ]
     },
     "execution_count": 62,
     "metadata": {},
     "output_type": "execute_result"
    }
   ],
   "source": [
    "grid_clf.best_estimator_\n",
    "grid_clf.best_score_"
   ]
  },
  {
   "cell_type": "code",
   "execution_count": null,
   "id": "88309ae9",
   "metadata": {},
   "outputs": [],
   "source": []
  },
  {
   "cell_type": "code",
   "execution_count": null,
   "id": "64adbc6b",
   "metadata": {},
   "outputs": [],
   "source": []
  },
  {
   "cell_type": "code",
   "execution_count": 64,
   "id": "9273b72b",
   "metadata": {},
   "outputs": [
    {
     "data": {
      "text/html": [
       "<div>\n",
       "<style scoped>\n",
       "    .dataframe tbody tr th:only-of-type {\n",
       "        vertical-align: middle;\n",
       "    }\n",
       "\n",
       "    .dataframe tbody tr th {\n",
       "        vertical-align: top;\n",
       "    }\n",
       "\n",
       "    .dataframe thead th {\n",
       "        text-align: right;\n",
       "    }\n",
       "</style>\n",
       "<table border=\"1\" class=\"dataframe\">\n",
       "  <thead>\n",
       "    <tr style=\"text-align: right;\">\n",
       "      <th></th>\n",
       "      <th>feature</th>\n",
       "      <th>importance</th>\n",
       "      <th>CUMSUM</th>\n",
       "    </tr>\n",
       "  </thead>\n",
       "  <tbody>\n",
       "    <tr>\n",
       "      <th>3</th>\n",
       "      <td>capital-gain</td>\n",
       "      <td>21.575703</td>\n",
       "      <td>21.575703</td>\n",
       "    </tr>\n",
       "    <tr>\n",
       "      <th>2</th>\n",
       "      <td>educational-num</td>\n",
       "      <td>14.772160</td>\n",
       "      <td>36.347863</td>\n",
       "    </tr>\n",
       "    <tr>\n",
       "      <th>12</th>\n",
       "      <td>marital-status_Never-married</td>\n",
       "      <td>13.820083</td>\n",
       "      <td>50.167946</td>\n",
       "    </tr>\n",
       "    <tr>\n",
       "      <th>0</th>\n",
       "      <td>age</td>\n",
       "      <td>9.192639</td>\n",
       "      <td>59.360585</td>\n",
       "    </tr>\n",
       "    <tr>\n",
       "      <th>13</th>\n",
       "      <td>marital-status_other</td>\n",
       "      <td>8.801588</td>\n",
       "      <td>68.162174</td>\n",
       "    </tr>\n",
       "    <tr>\n",
       "      <th>5</th>\n",
       "      <td>hours-per-week</td>\n",
       "      <td>5.648697</td>\n",
       "      <td>73.810870</td>\n",
       "    </tr>\n",
       "    <tr>\n",
       "      <th>4</th>\n",
       "      <td>capital-loss</td>\n",
       "      <td>4.804889</td>\n",
       "      <td>78.615759</td>\n",
       "    </tr>\n",
       "    <tr>\n",
       "      <th>30</th>\n",
       "      <td>gender_Male</td>\n",
       "      <td>4.450724</td>\n",
       "      <td>83.066483</td>\n",
       "    </tr>\n",
       "    <tr>\n",
       "      <th>16</th>\n",
       "      <td>occupation_Exec-managerial</td>\n",
       "      <td>3.404606</td>\n",
       "      <td>86.471088</td>\n",
       "    </tr>\n",
       "    <tr>\n",
       "      <th>27</th>\n",
       "      <td>relationship_Own-child</td>\n",
       "      <td>2.669545</td>\n",
       "      <td>89.140633</td>\n",
       "    </tr>\n",
       "    <tr>\n",
       "      <th>22</th>\n",
       "      <td>occupation_Prof-specialty</td>\n",
       "      <td>2.317119</td>\n",
       "      <td>91.457752</td>\n",
       "    </tr>\n",
       "    <tr>\n",
       "      <th>20</th>\n",
       "      <td>occupation_Other-service</td>\n",
       "      <td>1.100040</td>\n",
       "      <td>92.557792</td>\n",
       "    </tr>\n",
       "    <tr>\n",
       "      <th>9</th>\n",
       "      <td>education_Masters</td>\n",
       "      <td>1.093532</td>\n",
       "      <td>93.651325</td>\n",
       "    </tr>\n",
       "    <tr>\n",
       "      <th>8</th>\n",
       "      <td>education_HS-grad</td>\n",
       "      <td>1.023410</td>\n",
       "      <td>94.674735</td>\n",
       "    </tr>\n",
       "    <tr>\n",
       "      <th>1</th>\n",
       "      <td>fnlwgt</td>\n",
       "      <td>1.007651</td>\n",
       "      <td>95.682386</td>\n",
       "    </tr>\n",
       "    <tr>\n",
       "      <th>28</th>\n",
       "      <td>relationship_other</td>\n",
       "      <td>0.946840</td>\n",
       "      <td>96.629226</td>\n",
       "    </tr>\n",
       "    <tr>\n",
       "      <th>11</th>\n",
       "      <td>education_other</td>\n",
       "      <td>0.629047</td>\n",
       "      <td>97.258273</td>\n",
       "    </tr>\n",
       "    <tr>\n",
       "      <th>7</th>\n",
       "      <td>workclass_other</td>\n",
       "      <td>0.539014</td>\n",
       "      <td>97.797287</td>\n",
       "    </tr>\n",
       "    <tr>\n",
       "      <th>6</th>\n",
       "      <td>workclass_Self-emp-not-inc</td>\n",
       "      <td>0.383063</td>\n",
       "      <td>98.180350</td>\n",
       "    </tr>\n",
       "    <tr>\n",
       "      <th>10</th>\n",
       "      <td>education_Some-college</td>\n",
       "      <td>0.329934</td>\n",
       "      <td>98.510285</td>\n",
       "    </tr>\n",
       "    <tr>\n",
       "      <th>17</th>\n",
       "      <td>occupation_Farming-fishing</td>\n",
       "      <td>0.225266</td>\n",
       "      <td>98.735550</td>\n",
       "    </tr>\n",
       "    <tr>\n",
       "      <th>29</th>\n",
       "      <td>race_White</td>\n",
       "      <td>0.203951</td>\n",
       "      <td>98.939501</td>\n",
       "    </tr>\n",
       "    <tr>\n",
       "      <th>18</th>\n",
       "      <td>occupation_Handlers-cleaners</td>\n",
       "      <td>0.181409</td>\n",
       "      <td>99.120909</td>\n",
       "    </tr>\n",
       "    <tr>\n",
       "      <th>24</th>\n",
       "      <td>occupation_Sales</td>\n",
       "      <td>0.172163</td>\n",
       "      <td>99.293073</td>\n",
       "    </tr>\n",
       "    <tr>\n",
       "      <th>31</th>\n",
       "      <td>native-country_United-States</td>\n",
       "      <td>0.143201</td>\n",
       "      <td>99.436274</td>\n",
       "    </tr>\n",
       "    <tr>\n",
       "      <th>25</th>\n",
       "      <td>occupation_Tech-support</td>\n",
       "      <td>0.142711</td>\n",
       "      <td>99.578985</td>\n",
       "    </tr>\n",
       "    <tr>\n",
       "      <th>19</th>\n",
       "      <td>occupation_Machine-op-inspct</td>\n",
       "      <td>0.135600</td>\n",
       "      <td>99.714586</td>\n",
       "    </tr>\n",
       "    <tr>\n",
       "      <th>15</th>\n",
       "      <td>occupation_Craft-repair</td>\n",
       "      <td>0.132827</td>\n",
       "      <td>99.847413</td>\n",
       "    </tr>\n",
       "    <tr>\n",
       "      <th>26</th>\n",
       "      <td>occupation_Transport-moving</td>\n",
       "      <td>0.092532</td>\n",
       "      <td>99.939945</td>\n",
       "    </tr>\n",
       "    <tr>\n",
       "      <th>23</th>\n",
       "      <td>occupation_Protective-serv</td>\n",
       "      <td>0.054182</td>\n",
       "      <td>99.994127</td>\n",
       "    </tr>\n",
       "    <tr>\n",
       "      <th>21</th>\n",
       "      <td>occupation_Priv-house-serv</td>\n",
       "      <td>0.004729</td>\n",
       "      <td>99.998856</td>\n",
       "    </tr>\n",
       "    <tr>\n",
       "      <th>14</th>\n",
       "      <td>occupation_Armed-Forces</td>\n",
       "      <td>0.001144</td>\n",
       "      <td>100.000000</td>\n",
       "    </tr>\n",
       "  </tbody>\n",
       "</table>\n",
       "</div>"
      ],
      "text/plain": [
       "                         feature  importance      CUMSUM\n",
       "3                   capital-gain   21.575703   21.575703\n",
       "2                educational-num   14.772160   36.347863\n",
       "12  marital-status_Never-married   13.820083   50.167946\n",
       "0                            age    9.192639   59.360585\n",
       "13          marital-status_other    8.801588   68.162174\n",
       "5                 hours-per-week    5.648697   73.810870\n",
       "4                   capital-loss    4.804889   78.615759\n",
       "30                   gender_Male    4.450724   83.066483\n",
       "16    occupation_Exec-managerial    3.404606   86.471088\n",
       "27        relationship_Own-child    2.669545   89.140633\n",
       "22     occupation_Prof-specialty    2.317119   91.457752\n",
       "20      occupation_Other-service    1.100040   92.557792\n",
       "9              education_Masters    1.093532   93.651325\n",
       "8              education_HS-grad    1.023410   94.674735\n",
       "1                         fnlwgt    1.007651   95.682386\n",
       "28            relationship_other    0.946840   96.629226\n",
       "11               education_other    0.629047   97.258273\n",
       "7                workclass_other    0.539014   97.797287\n",
       "6     workclass_Self-emp-not-inc    0.383063   98.180350\n",
       "10        education_Some-college    0.329934   98.510285\n",
       "17    occupation_Farming-fishing    0.225266   98.735550\n",
       "29                    race_White    0.203951   98.939501\n",
       "18  occupation_Handlers-cleaners    0.181409   99.120909\n",
       "24              occupation_Sales    0.172163   99.293073\n",
       "31  native-country_United-States    0.143201   99.436274\n",
       "25       occupation_Tech-support    0.142711   99.578985\n",
       "19  occupation_Machine-op-inspct    0.135600   99.714586\n",
       "15       occupation_Craft-repair    0.132827   99.847413\n",
       "26   occupation_Transport-moving    0.092532   99.939945\n",
       "23    occupation_Protective-serv    0.054182   99.994127\n",
       "21    occupation_Priv-house-serv    0.004729   99.998856\n",
       "14       occupation_Armed-Forces    0.001144  100.000000"
      ]
     },
     "execution_count": 64,
     "metadata": {},
     "output_type": "execute_result"
    }
   ],
   "source": [
    "feature_importances_df = pd.DataFrame(zip(X_train.columns, grid_clf.best_estimator_.feature_importances_)\n",
    "                                      , columns=['feature', 'importance']).sort_values(by = 'importance',ascending = False)\n",
    "feature_importances_df['importance'] = feature_importances_df['importance']*100\n",
    "feature_importances_df['CUMSUM'] = feature_importances_df['importance'].cumsum()\n",
    "feature_importances_df"
   ]
  },
  {
   "cell_type": "code",
   "execution_count": 65,
   "id": "5e6c9940",
   "metadata": {},
   "outputs": [
    {
     "data": {
      "text/html": [
       "<div>\n",
       "<style scoped>\n",
       "    .dataframe tbody tr th:only-of-type {\n",
       "        vertical-align: middle;\n",
       "    }\n",
       "\n",
       "    .dataframe tbody tr th {\n",
       "        vertical-align: top;\n",
       "    }\n",
       "\n",
       "    .dataframe thead th {\n",
       "        text-align: right;\n",
       "    }\n",
       "</style>\n",
       "<table border=\"1\" class=\"dataframe\">\n",
       "  <thead>\n",
       "    <tr style=\"text-align: right;\">\n",
       "      <th></th>\n",
       "      <th>feature</th>\n",
       "      <th>importance</th>\n",
       "      <th>CUMSUM</th>\n",
       "    </tr>\n",
       "  </thead>\n",
       "  <tbody>\n",
       "    <tr>\n",
       "      <th>3</th>\n",
       "      <td>capital-gain</td>\n",
       "      <td>21.575703</td>\n",
       "      <td>21.575703</td>\n",
       "    </tr>\n",
       "    <tr>\n",
       "      <th>2</th>\n",
       "      <td>educational-num</td>\n",
       "      <td>14.772160</td>\n",
       "      <td>36.347863</td>\n",
       "    </tr>\n",
       "    <tr>\n",
       "      <th>12</th>\n",
       "      <td>marital-status_Never-married</td>\n",
       "      <td>13.820083</td>\n",
       "      <td>50.167946</td>\n",
       "    </tr>\n",
       "    <tr>\n",
       "      <th>0</th>\n",
       "      <td>age</td>\n",
       "      <td>9.192639</td>\n",
       "      <td>59.360585</td>\n",
       "    </tr>\n",
       "    <tr>\n",
       "      <th>13</th>\n",
       "      <td>marital-status_other</td>\n",
       "      <td>8.801588</td>\n",
       "      <td>68.162174</td>\n",
       "    </tr>\n",
       "    <tr>\n",
       "      <th>5</th>\n",
       "      <td>hours-per-week</td>\n",
       "      <td>5.648697</td>\n",
       "      <td>73.810870</td>\n",
       "    </tr>\n",
       "    <tr>\n",
       "      <th>4</th>\n",
       "      <td>capital-loss</td>\n",
       "      <td>4.804889</td>\n",
       "      <td>78.615759</td>\n",
       "    </tr>\n",
       "    <tr>\n",
       "      <th>30</th>\n",
       "      <td>gender_Male</td>\n",
       "      <td>4.450724</td>\n",
       "      <td>83.066483</td>\n",
       "    </tr>\n",
       "  </tbody>\n",
       "</table>\n",
       "</div>"
      ],
      "text/plain": [
       "                         feature  importance     CUMSUM\n",
       "3                   capital-gain   21.575703  21.575703\n",
       "2                educational-num   14.772160  36.347863\n",
       "12  marital-status_Never-married   13.820083  50.167946\n",
       "0                            age    9.192639  59.360585\n",
       "13          marital-status_other    8.801588  68.162174\n",
       "5                 hours-per-week    5.648697  73.810870\n",
       "4                   capital-loss    4.804889  78.615759\n",
       "30                   gender_Male    4.450724  83.066483"
      ]
     },
     "execution_count": 65,
     "metadata": {},
     "output_type": "execute_result"
    }
   ],
   "source": [
    "feature_importances_df = feature_importances_df[feature_importances_df['CUMSUM']<85]\n",
    "feature_importances_df"
   ]
  },
  {
   "cell_type": "code",
   "execution_count": 66,
   "id": "092498c4",
   "metadata": {},
   "outputs": [
    {
     "data": {
      "text/plain": [
       "['capital-gain',\n",
       " 'educational-num',\n",
       " 'marital-status_Never-married',\n",
       " 'age',\n",
       " 'marital-status_other',\n",
       " 'hours-per-week',\n",
       " 'capital-loss',\n",
       " 'gender_Male']"
      ]
     },
     "execution_count": 66,
     "metadata": {},
     "output_type": "execute_result"
    }
   ],
   "source": [
    "cols_final = feature_importances_df['feature'].values.tolist()\n",
    "X_train = X_train[cols_final]\n",
    "cols_final"
   ]
  },
  {
   "cell_type": "code",
   "execution_count": 67,
   "id": "48e9e98b",
   "metadata": {},
   "outputs": [],
   "source": []
  },
  {
   "cell_type": "code",
   "execution_count": null,
   "id": "1ab4d8ba",
   "metadata": {},
   "outputs": [],
   "source": []
  },
  {
   "cell_type": "code",
   "execution_count": 68,
   "id": "338ec9d0",
   "metadata": {},
   "outputs": [
    {
     "name": "stdout",
     "output_type": "stream",
     "text": [
      "Fitting 5 folds for each of 12 candidates, totalling 60 fits\n"
     ]
    },
    {
     "data": {
      "text/plain": [
       "GridSearchCV(cv=5, estimator=RandomForestClassifier(), n_jobs=-1,\n",
       "             param_grid={'max_depth': [2, 5, 7, 9],\n",
       "                         'n_estimators': [50, 100, 1000]},\n",
       "             verbose=2)"
      ]
     },
     "execution_count": 68,
     "metadata": {},
     "output_type": "execute_result"
    }
   ],
   "source": [
    "from sklearn.ensemble import RandomForestClassifier\n",
    "from sklearn.model_selection import cross_val_score\n",
    "from sklearn.model_selection import GridSearchCV\n",
    "\n",
    "# Initialize with whatever parameters you want to\n",
    "clf = RandomForestClassifier()\n",
    "\n",
    "param_grid = {\n",
    "    'n_estimators': [50,100,1000],\n",
    "    'max_depth': [2, 5, 7, 9]\n",
    "}\n",
    "\n",
    "\n",
    "grid_clf = GridSearchCV(clf, param_grid, cv=5, verbose = 2,n_jobs=-1)\n",
    "grid_clf.fit(X_train, y_train)"
   ]
  },
  {
   "cell_type": "code",
   "execution_count": 69,
   "id": "e8d6ad31",
   "metadata": {},
   "outputs": [
    {
     "data": {
      "text/plain": [
       "0.8548844863690779"
      ]
     },
     "execution_count": 69,
     "metadata": {},
     "output_type": "execute_result"
    }
   ],
   "source": [
    "grid_clf.best_score_"
   ]
  },
  {
   "cell_type": "code",
   "execution_count": 88,
   "id": "d5694d9a",
   "metadata": {},
   "outputs": [
    {
     "data": {
      "text/html": [
       "<div>\n",
       "<style scoped>\n",
       "    .dataframe tbody tr th:only-of-type {\n",
       "        vertical-align: middle;\n",
       "    }\n",
       "\n",
       "    .dataframe tbody tr th {\n",
       "        vertical-align: top;\n",
       "    }\n",
       "\n",
       "    .dataframe thead th {\n",
       "        text-align: right;\n",
       "    }\n",
       "</style>\n",
       "<table border=\"1\" class=\"dataframe\">\n",
       "  <thead>\n",
       "    <tr style=\"text-align: right;\">\n",
       "      <th></th>\n",
       "      <th>capital-gain</th>\n",
       "      <th>educational-num</th>\n",
       "      <th>marital-status_Never-married</th>\n",
       "      <th>age</th>\n",
       "      <th>marital-status_other</th>\n",
       "      <th>hours-per-week</th>\n",
       "      <th>capital-loss</th>\n",
       "      <th>gender_Male</th>\n",
       "    </tr>\n",
       "  </thead>\n",
       "  <tbody>\n",
       "    <tr>\n",
       "      <th>i</th>\n",
       "      <td>999999</td>\n",
       "      <td>7</td>\n",
       "      <td>0</td>\n",
       "      <td>23</td>\n",
       "      <td>1</td>\n",
       "      <td>35</td>\n",
       "      <td>0</td>\n",
       "      <td>1</td>\n",
       "    </tr>\n",
       "  </tbody>\n",
       "</table>\n",
       "</div>"
      ],
      "text/plain": [
       "   capital-gain  educational-num  marital-status_Never-married  age  \\\n",
       "i        999999                7                             0   23   \n",
       "\n",
       "   marital-status_other  hours-per-week  capital-loss  gender_Male  \n",
       "i                     1              35             0            1  "
      ]
     },
     "execution_count": 88,
     "metadata": {},
     "output_type": "execute_result"
    }
   ],
   "source": [
    "test = {'capital-gain': 999999,\n",
    " 'educational-num': 7,\n",
    " 'marital-status_Never-married': 0,\n",
    " 'age': 23,\n",
    " 'marital-status_other': 1,\n",
    " 'hours-per-week': 35,\n",
    " 'capital-loss': 0,\n",
    " 'gender_Male': 1}\n",
    "test = pd.DataFrame(test,index=['i',])\n",
    "test"
   ]
  },
  {
   "cell_type": "code",
   "execution_count": 91,
   "id": "9f2d6a62",
   "metadata": {},
   "outputs": [
    {
     "data": {
      "text/plain": [
       "array([[0.17166093, 0.82833907]])"
      ]
     },
     "execution_count": 91,
     "metadata": {},
     "output_type": "execute_result"
    }
   ],
   "source": [
    "grid_clf.best_estimator_.predict_proba(test)"
   ]
  },
  {
   "cell_type": "code",
   "execution_count": null,
   "id": "bd95854c",
   "metadata": {},
   "outputs": [],
   "source": []
  },
  {
   "cell_type": "code",
   "execution_count": null,
   "id": "b03231da",
   "metadata": {},
   "outputs": [],
   "source": [
    "#  Model Saving"
   ]
  },
  {
   "cell_type": "code",
   "execution_count": 95,
   "id": "992d7a04",
   "metadata": {},
   "outputs": [
    {
     "data": {
      "text/plain": [
       "array([[0.17166093, 0.82833907]])"
      ]
     },
     "execution_count": 95,
     "metadata": {},
     "output_type": "execute_result"
    }
   ],
   "source": [
    "import pickle\n",
    "\n",
    "filename = 'income_classifier.pkl'\n",
    "pickle.dump(grid_clf.best_estimator_, open(filename, 'wb'))\n",
    " \n",
    "# some time later...\n",
    " \n",
    "# load the model from disk\n",
    "loaded_model = pickle.load(open(filename, 'rb'))\n",
    "loaded_model.predict_proba(test)"
   ]
  },
  {
   "cell_type": "code",
   "execution_count": 7,
   "id": "3efb4dc0",
   "metadata": {},
   "outputs": [],
   "source": [
    "test = test.values.tolist()"
   ]
  },
  {
   "cell_type": "code",
   "execution_count": 9,
   "id": "5e25685f",
   "metadata": {},
   "outputs": [
    {
     "data": {
      "text/plain": [
       "[[999999, 7, 0, 23, 1, 35, 0, 1]]"
      ]
     },
     "execution_count": 9,
     "metadata": {},
     "output_type": "execute_result"
    }
   ],
   "source": [
    "test"
   ]
  },
  {
   "cell_type": "code",
   "execution_count": 8,
   "id": "8280d287",
   "metadata": {},
   "outputs": [
    {
     "data": {
      "text/plain": [
       "array([[0.17166093, 0.82833907]])"
      ]
     },
     "execution_count": 8,
     "metadata": {},
     "output_type": "execute_result"
    }
   ],
   "source": [
    "loaded_model.predict_proba(test)"
   ]
  },
  {
   "cell_type": "code",
   "execution_count": null,
   "id": "170ce9f5",
   "metadata": {},
   "outputs": [],
   "source": []
  }
 ],
 "metadata": {
  "kernelspec": {
   "display_name": "Python 3",
   "language": "python",
   "name": "python3"
  },
  "language_info": {
   "codemirror_mode": {
    "name": "ipython",
    "version": 3
   },
   "file_extension": ".py",
   "mimetype": "text/x-python",
   "name": "python",
   "nbconvert_exporter": "python",
   "pygments_lexer": "ipython3",
   "version": "3.8.8"
  }
 },
 "nbformat": 4,
 "nbformat_minor": 5
}
